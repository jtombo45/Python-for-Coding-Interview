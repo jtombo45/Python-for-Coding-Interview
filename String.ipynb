{
 "cells": [
  {
   "cell_type": "markdown",
   "id": "d4b0cd0c",
   "metadata": {},
   "source": [
    "# Data Structure: String\n",
    "String is just like a List\n",
    "String is Im-Mutable: Meaning it isn't able to be change with regards to data "
   ]
  },
  {
   "cell_type": "code",
   "execution_count": 3,
   "id": "dc177444",
   "metadata": {},
   "outputs": [
    {
     "data": {
      "text/plain": [
       "'t'"
      ]
     },
     "execution_count": 3,
     "metadata": {},
     "output_type": "execute_result"
    }
   ],
   "source": [
    "#Retrieving a Character from String \n",
    "s[0]"
   ]
  },
  {
   "cell_type": "markdown",
   "id": "d678f61c",
   "metadata": {},
   "source": [
    "## Initializing:"
   ]
  },
  {
   "cell_type": "code",
   "execution_count": 29,
   "id": "05c36e71",
   "metadata": {},
   "outputs": [],
   "source": [
    "#Initializing a String\n",
    "s = \"this is a string\"\n",
    "s2 = \"this is also a string\""
   ]
  },
  {
   "cell_type": "markdown",
   "id": "0824c14c",
   "metadata": {},
   "source": [
    "## Retrieving:"
   ]
  },
  {
   "cell_type": "code",
   "execution_count": 4,
   "id": "b7ce1b03",
   "metadata": {},
   "outputs": [
    {
     "data": {
      "text/plain": [
       "'h'"
      ]
     },
     "execution_count": 4,
     "metadata": {},
     "output_type": "execute_result"
    }
   ],
   "source": [
    "#Retrieving the 2nd character\n",
    "s[1]"
   ]
  },
  {
   "cell_type": "code",
   "execution_count": 5,
   "id": "3a47b68f",
   "metadata": {},
   "outputs": [
    {
     "data": {
      "text/plain": [
       "16"
      ]
     },
     "execution_count": 5,
     "metadata": {},
     "output_type": "execute_result"
    }
   ],
   "source": [
    "#Getting the length of a String\n",
    "len(s)"
   ]
  },
  {
   "cell_type": "code",
   "execution_count": 6,
   "id": "89801d6d",
   "metadata": {},
   "outputs": [
    {
     "name": "stdout",
     "output_type": "stream",
     "text": [
      "a\n",
      "b\n",
      "c\n"
     ]
    }
   ],
   "source": [
    "#Iterating through a String (Method 1): Element based iteration\n",
    "s = \"abc\"\n",
    "\n",
    "for character in s:\n",
    "    print(character)\n"
   ]
  },
  {
   "cell_type": "code",
   "execution_count": 7,
   "id": "6b977203",
   "metadata": {},
   "outputs": [
    {
     "name": "stdout",
     "output_type": "stream",
     "text": [
      "a\n",
      "b\n",
      "c\n"
     ]
    }
   ],
   "source": [
    "#Iteraing through a String (Method 2): Index based iteration\n",
    "for index in range(len(s)):\n",
    "    print(s[index])"
   ]
  },
  {
   "cell_type": "code",
   "execution_count": 9,
   "id": "bd603b80",
   "metadata": {},
   "outputs": [
    {
     "data": {
      "text/plain": [
       "'ABC'"
      ]
     },
     "execution_count": 9,
     "metadata": {},
     "output_type": "execute_result"
    }
   ],
   "source": [
    "#Problem 1: Initialize a new string, \"ABC\", and store it in a new variable called a_string\n",
    "a_string = \"ABC\"\n",
    "a_string"
   ]
  },
  {
   "cell_type": "code",
   "execution_count": 10,
   "id": "3b94bf5e",
   "metadata": {},
   "outputs": [
    {
     "name": "stdout",
     "output_type": "stream",
     "text": [
      "E\n"
     ]
    }
   ],
   "source": [
    "#Problem 2: From the string called b_string, defined below, retrieve and print the second character\n",
    "b_string = \"DEF\"\n",
    "print(b_string[1])"
   ]
  },
  {
   "cell_type": "code",
   "execution_count": 12,
   "id": "abb71dd8",
   "metadata": {},
   "outputs": [
    {
     "name": "stdout",
     "output_type": "stream",
     "text": [
      "Q\n",
      "H\n",
      "1\n"
     ]
    }
   ],
   "source": [
    "#Problem 3: Iterate over each character in c_string and print it using the \"for character in...\" syntax.\n",
    "c_string = \"QH1\"\n",
    "for character in c_string:\n",
    "    print(character)"
   ]
  },
  {
   "cell_type": "code",
   "execution_count": 13,
   "id": "4f9abfda",
   "metadata": {},
   "outputs": [
    {
     "name": "stdout",
     "output_type": "stream",
     "text": [
      "P\n",
      "Q\n",
      "R\n"
     ]
    }
   ],
   "source": [
    "#Problem 4: Iterate over each character in c_string and print it using the \"for in range...\" syntax.\n",
    "c_string = \"PQR\"\n",
    "for index in range(len(c_string)):\n",
    "    print(c_string[index])"
   ]
  },
  {
   "cell_type": "code",
   "execution_count": 15,
   "id": "2565c140",
   "metadata": {},
   "outputs": [],
   "source": [
    "#Problem 5: Write a function that takes two strings and returns True if they are reverses of each other.\n",
    "def checkRevString(str1,str2):\n",
    "    idx = len(str1)-1\n",
    "    \n",
    "    #The string must be equal in length to be the reverse of each other\n",
    "    if(len(str1) == len(str2)):\n",
    "        \n",
    "        for index in range(len(str1)):\n",
    "            if(str1[index] != str2[idx]):\n",
    "                return False\n",
    "            idx = idx-1\n",
    "            \n",
    "        return True\n",
    "    \n",
    "    else:\n",
    "        return False\n",
    "        \n",
    "        "
   ]
  },
  {
   "cell_type": "code",
   "execution_count": 25,
   "id": "ee675d85",
   "metadata": {},
   "outputs": [
    {
     "data": {
      "text/plain": [
       "True"
      ]
     },
     "execution_count": 25,
     "metadata": {},
     "output_type": "execute_result"
    }
   ],
   "source": [
    "#Empty String case\n",
    "checkRevString(\" \",\" \")"
   ]
  },
  {
   "cell_type": "code",
   "execution_count": 22,
   "id": "3996d756",
   "metadata": {},
   "outputs": [
    {
     "data": {
      "text/plain": [
       "False"
      ]
     },
     "execution_count": 22,
     "metadata": {},
     "output_type": "execute_result"
    }
   ],
   "source": [
    "#Different String length case\n",
    "checkRevString(\"a\",\"cha\")"
   ]
  },
  {
   "cell_type": "code",
   "execution_count": 23,
   "id": "682a1c3f",
   "metadata": {},
   "outputs": [
    {
     "data": {
      "text/plain": [
       "True"
      ]
     },
     "execution_count": 23,
     "metadata": {},
     "output_type": "execute_result"
    }
   ],
   "source": [
    "#Single Character String\n",
    "checkRevString(\"a\",\"a\")"
   ]
  },
  {
   "cell_type": "code",
   "execution_count": 28,
   "id": "69194c64",
   "metadata": {},
   "outputs": [
    {
     "data": {
      "text/plain": [
       "True"
      ]
     },
     "execution_count": 28,
     "metadata": {},
     "output_type": "execute_result"
    }
   ],
   "source": [
    "#Two string whether one is the reverse of the other String\n",
    "checkRevString(\"abcd\",\"dcba\")"
   ]
  },
  {
   "cell_type": "code",
   "execution_count": 31,
   "id": "68c34cf9",
   "metadata": {},
   "outputs": [],
   "source": [
    "#Write a function that compares Strings of numbers returns true if the first string number is the largest\n",
    "#The function is based off the first number\n",
    "#Ex:\n",
    "    #\"1232\" > \"201\"\n",
    "    #Larger_than(\"1232\",\"201\") -> True\n",
    "    #Larger_than(\"202\",\"232\") -> False\n",
    "#Clarifying Questons:\n",
    "    #Could the strings be Empty -> No (Question is based off size constraint)\n",
    "    #Could the numbers be negative? -> (Question is based off the different format a number can take either positive or negative)\n",
    "    #Could the number be the same number ()\n",
    "    #Could the number be a decimal\n",
    "    #Assume the input will be a string of number\n",
    "    \n",
    "def isLarger(str1,str2):\n",
    "    if(float(str1) > float(str2)):\n",
    "       return True\n",
    "    else:\n",
    "       return False\n",
    "    "
   ]
  },
  {
   "cell_type": "code",
   "execution_count": 32,
   "id": "088d3e98",
   "metadata": {},
   "outputs": [
    {
     "data": {
      "text/plain": [
       "False"
      ]
     },
     "execution_count": 32,
     "metadata": {},
     "output_type": "execute_result"
    }
   ],
   "source": [
    "isLarger(\"-1\",\"3\")"
   ]
  },
  {
   "cell_type": "code",
   "execution_count": 33,
   "id": "1c5f6596",
   "metadata": {},
   "outputs": [
    {
     "data": {
      "text/plain": [
       "False"
      ]
     },
     "execution_count": 33,
     "metadata": {},
     "output_type": "execute_result"
    }
   ],
   "source": [
    "isLarger(\"-4\",\"1\")"
   ]
  },
  {
   "cell_type": "code",
   "execution_count": 34,
   "id": "6b81d993",
   "metadata": {},
   "outputs": [
    {
     "data": {
      "text/plain": [
       "True"
      ]
     },
     "execution_count": 34,
     "metadata": {},
     "output_type": "execute_result"
    }
   ],
   "source": [
    "isLarger(\"7\",\"2\")"
   ]
  },
  {
   "cell_type": "code",
   "execution_count": 19,
   "id": "4a5aa633",
   "metadata": {},
   "outputs": [
    {
     "data": {
      "text/plain": [
       "False"
      ]
     },
     "execution_count": 19,
     "metadata": {},
     "output_type": "execute_result"
    }
   ],
   "source": [
    "isLarger(\"4\",\"4\")"
   ]
  },
  {
   "cell_type": "code",
   "execution_count": 20,
   "id": "d63db051",
   "metadata": {},
   "outputs": [
    {
     "data": {
      "text/plain": [
       "True"
      ]
     },
     "execution_count": 20,
     "metadata": {},
     "output_type": "execute_result"
    }
   ],
   "source": [
    "isLarger(\"4.3\",\"4\")"
   ]
  },
  {
   "cell_type": "code",
   "execution_count": 22,
   "id": "6e38f359",
   "metadata": {},
   "outputs": [],
   "source": [
    "#Solve the Problem above without converting string\n",
    "#theTewEngineeringWorld Solution:\n",
    "#First compare the length of the two strings\n",
    "    #If the first string is longer in length return true (what about negative #s???)\n",
    "#Then compare the first characters\n",
    "\n",
    "def larger_than(a,b):\n",
    "    if len(a) > len(b):\n",
    "        return True\n",
    "    elif len(a) < len(b):\n",
    "        return False\n",
    "    \n",
    "    # a = \"223\", b = \"222\"\n",
    "    for i in range(len(a)):\n",
    "        if a[i] == b[i]:\n",
    "            continue\n",
    "        elif a[i] > b[i]:\n",
    "            return True\n",
    "        #a[i] < b[i]\n",
    "        else:\n",
    "            return False\n",
    "        \n",
    "    return False\n",
    "            "
   ]
  },
  {
   "cell_type": "code",
   "execution_count": 23,
   "id": "7797f3d5",
   "metadata": {},
   "outputs": [
    {
     "name": "stdout",
     "output_type": "stream",
     "text": [
      "True\n"
     ]
    }
   ],
   "source": [
    "print(larger_than(\"112\",\"111\"))"
   ]
  },
  {
   "cell_type": "code",
   "execution_count": 24,
   "id": "c72b3f76",
   "metadata": {},
   "outputs": [
    {
     "name": "stdout",
     "output_type": "stream",
     "text": [
      "False\n"
     ]
    }
   ],
   "source": [
    "print(larger_than(\"525\",\"1111\"))"
   ]
  },
  {
   "cell_type": "code",
   "execution_count": 25,
   "id": "948ebbff",
   "metadata": {},
   "outputs": [
    {
     "name": "stdout",
     "output_type": "stream",
     "text": [
      "True\n"
     ]
    }
   ],
   "source": [
    "print(larger_than(\"11\",\"0\"))"
   ]
  },
  {
   "cell_type": "code",
   "execution_count": 26,
   "id": "198bbc90",
   "metadata": {},
   "outputs": [
    {
     "name": "stdout",
     "output_type": "stream",
     "text": [
      "False\n"
     ]
    }
   ],
   "source": [
    "print(larger_than(\"1\",\"1\"))"
   ]
  },
  {
   "cell_type": "code",
   "execution_count": null,
   "id": "e7432820",
   "metadata": {},
   "outputs": [],
   "source": []
  }
 ],
 "metadata": {
  "kernelspec": {
   "display_name": "Python 3 (ipykernel)",
   "language": "python",
   "name": "python3"
  },
  "language_info": {
   "codemirror_mode": {
    "name": "ipython",
    "version": 3
   },
   "file_extension": ".py",
   "mimetype": "text/x-python",
   "name": "python",
   "nbconvert_exporter": "python",
   "pygments_lexer": "ipython3",
   "version": "3.8.2"
  }
 },
 "nbformat": 4,
 "nbformat_minor": 5
}
