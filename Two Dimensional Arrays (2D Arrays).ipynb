{
 "cells": [
  {
   "cell_type": "markdown",
   "id": "98292136",
   "metadata": {},
   "source": [
    "# Data Structure: 2D Arrays \n",
    "It is a array of array or list of list"
   ]
  },
  {
   "cell_type": "code",
   "execution_count": 10,
   "id": "8004681f",
   "metadata": {},
   "outputs": [
    {
     "data": {
      "text/html": [
       "<img src=\"https://media.geeksforgeeks.org/wp-content/uploads/two-d.png\" width=\"300\" height=\"300\"/>"
      ],
      "text/plain": [
       "<IPython.core.display.Image object>"
      ]
     },
     "execution_count": 10,
     "metadata": {},
     "output_type": "execute_result"
    }
   ],
   "source": [
    "from IPython.display import Image\n",
    "from IPython.core.display import HTML \n",
    "Image(url= \"https://media.geeksforgeeks.org/wp-content/uploads/two-d.png\", width=300, height=300)"
   ]
  },
  {
   "cell_type": "markdown",
   "id": "497dc176",
   "metadata": {},
   "source": [
    "The image above shows a 2D array of size 3x3"
   ]
  },
  {
   "cell_type": "markdown",
   "id": "75d433cf",
   "metadata": {},
   "source": [
    "We assume a 2D array has a recantgular shape: It means each row has the same amount of items as all the other rows\n",
    "Can we assume each row is the same number of items"
   ]
  },
  {
   "cell_type": "markdown",
   "id": "dd252d96",
   "metadata": {},
   "source": [
    "## Initializing:"
   ]
  },
  {
   "cell_type": "code",
   "execution_count": 24,
   "id": "81b02eab",
   "metadata": {},
   "outputs": [],
   "source": [
    "a = [[1,3,9,4],[5,0,8,-3]]\n",
    "b = [[1, 2, 3, 4],\n",
    "     [5,6,7,8]]"
   ]
  },
  {
   "cell_type": "markdown",
   "id": "23aafa46",
   "metadata": {},
   "source": [
    "## Retrieving:\n",
    "Retrieve row: list[row]"
   ]
  },
  {
   "cell_type": "markdown",
   "id": "4ddf9989",
   "metadata": {},
   "source": [
    "Retrieve column: [column[the_column_you_want] for column in list]"
   ]
  },
  {
   "cell_type": "markdown",
   "id": "5d63ac56",
   "metadata": {},
   "source": [
    "Retrieve a specific location/element: list[row][column]"
   ]
  },
  {
   "cell_type": "code",
   "execution_count": 19,
   "id": "27984243",
   "metadata": {},
   "outputs": [
    {
     "data": {
      "text/plain": [
       "[1, 3, 9, 4]"
      ]
     },
     "execution_count": 19,
     "metadata": {},
     "output_type": "execute_result"
    }
   ],
   "source": [
    "#Retrieving a row\n",
    "a[0]"
   ]
  },
  {
   "cell_type": "code",
   "execution_count": 29,
   "id": "48554590",
   "metadata": {},
   "outputs": [
    {
     "data": {
      "text/plain": [
       "[1, 5]"
      ]
     },
     "execution_count": 29,
     "metadata": {},
     "output_type": "execute_result"
    }
   ],
   "source": [
    "#Retrieving a column\n",
    "[col[0] for col in a]"
   ]
  },
  {
   "cell_type": "code",
   "execution_count": 20,
   "id": "b47b6de8",
   "metadata": {},
   "outputs": [
    {
     "data": {
      "text/plain": [
       "3"
      ]
     },
     "execution_count": 20,
     "metadata": {},
     "output_type": "execute_result"
    }
   ],
   "source": [
    "#Retrieving a specific location or element\n",
    "#Getting the element in the first row and second column in list a\n",
    "a[0][1]"
   ]
  },
  {
   "cell_type": "markdown",
   "id": "1ba4f365",
   "metadata": {},
   "source": [
    "## Setting:"
   ]
  },
  {
   "cell_type": "code",
   "execution_count": 25,
   "id": "6c403a4a",
   "metadata": {},
   "outputs": [
    {
     "name": "stdout",
     "output_type": "stream",
     "text": [
      "3\n",
      "100\n",
      "[[1, 100, 9, 4], [5, 0, 8, -3]]\n"
     ]
    }
   ],
   "source": [
    "print(a[0][1])\n",
    "a[0][1] = 100\n",
    "print(a[0][1])\n",
    "print(a)"
   ]
  },
  {
   "cell_type": "markdown",
   "id": "a8a7327e",
   "metadata": {},
   "source": [
    "## Iterating over a 2D array"
   ]
  },
  {
   "cell_type": "markdown",
   "id": "4b5283f8",
   "metadata": {},
   "source": [
    "Two Ways to iterate over a 2D array\n",
    "- Method 1: for row in item list (element based)\n",
    "- Method 2: for i in range(len(list)) (index based)"
   ]
  },
  {
   "cell_type": "code",
   "execution_count": 27,
   "id": "a408eac2",
   "metadata": {},
   "outputs": [
    {
     "name": "stdout",
     "output_type": "stream",
     "text": [
      "1\n",
      "100\n",
      "9\n",
      "4\n",
      "5\n",
      "0\n",
      "8\n",
      "-3\n"
     ]
    }
   ],
   "source": [
    "#Method 1: for row in item list (element based)\n",
    "#It uses a nested for loop and nested elements: row and item -> row in a & item in row\n",
    "for row in a:\n",
    "    for item in row:\n",
    "        print(item)"
   ]
  },
  {
   "cell_type": "code",
   "execution_count": 28,
   "id": "71b5a50d",
   "metadata": {},
   "outputs": [
    {
     "name": "stdout",
     "output_type": "stream",
     "text": [
      "[1, 100, 9, 4]\n",
      "[5, 0, 8, -3]\n"
     ]
    }
   ],
   "source": [
    "#Printing out just the row\n",
    "for row in a:\n",
    "    print(row)"
   ]
  },
  {
   "cell_type": "code",
   "execution_count": 30,
   "id": "67bdf2a0",
   "metadata": {},
   "outputs": [
    {
     "name": "stdout",
     "output_type": "stream",
     "text": [
      "1\n",
      "100\n",
      "9\n",
      "4\n",
      "5\n",
      "0\n",
      "8\n",
      "-3\n"
     ]
    }
   ],
   "source": [
    "#Method 2: for i in range(len(list)) (index)\n",
    "#It uses a nested for loop and nested index: i and j\n",
    "#i represents the row (a[i]) and j represent the columns in the row \n",
    "#Iterating through row\n",
    "for i in range(len(a)):\n",
    "    #Iterating through column\n",
    "    for j in range(len(a[i])):\n",
    "        print(a[i][j])"
   ]
  },
  {
   "cell_type": "markdown",
   "id": "c9fd3e30",
   "metadata": {},
   "source": [
    "# Problems to Solve:"
   ]
  },
  {
   "cell_type": "markdown",
   "id": "fa1a52fc",
   "metadata": {},
   "source": [
    "Problem 1: Intialize a new 2D array with [1,2,3] in the first row and [5,6,7] in the second row. Store it in a new variable called a_2d"
   ]
  },
  {
   "cell_type": "code",
   "execution_count": 33,
   "id": "91381626",
   "metadata": {},
   "outputs": [
    {
     "data": {
      "text/plain": [
       "[[1, 2, 3], [5, 6, 7]]"
      ]
     },
     "execution_count": 33,
     "metadata": {},
     "output_type": "execute_result"
    }
   ],
   "source": [
    "a_2d = [[1,2,3],[5,6,7]]\n",
    "a_2d"
   ]
  },
  {
   "cell_type": "markdown",
   "id": "7ccb3915",
   "metadata": {},
   "source": [
    "Problem 2: From 2D array called b_2d, defined below, replace the number 6 with the number 99."
   ]
  },
  {
   "cell_type": "code",
   "execution_count": 2,
   "id": "daacef13",
   "metadata": {},
   "outputs": [],
   "source": [
    "b_2d = [[1, 2, 3], [5, 6, 7]]"
   ]
  },
  {
   "cell_type": "code",
   "execution_count": 5,
   "id": "b1fd74b4",
   "metadata": {},
   "outputs": [
    {
     "name": "stdout",
     "output_type": "stream",
     "text": [
      "99\n"
     ]
    }
   ],
   "source": [
    "b_2d[1][1] = 99\n",
    "print(b_2d[1][1])"
   ]
  },
  {
   "cell_type": "markdown",
   "id": "16f6dedd",
   "metadata": {},
   "source": [
    "Problem 3: Iterate over each item in c_2d and print it using the \"for in ....\" syntax.\n"
   ]
  },
  {
   "cell_type": "code",
   "execution_count": 7,
   "id": "66d3f656",
   "metadata": {},
   "outputs": [
    {
     "name": "stdout",
     "output_type": "stream",
     "text": [
      "[['a', 'b', 'c'], ['x', 'y', 'z']]\n"
     ]
    }
   ],
   "source": [
    "c_2d = [['a','b','c'],\n",
    "       ['x','y','z']]\n",
    "print(c_2d)"
   ]
  },
  {
   "cell_type": "code",
   "execution_count": 8,
   "id": "39345777",
   "metadata": {},
   "outputs": [
    {
     "name": "stdout",
     "output_type": "stream",
     "text": [
      "a\n",
      "b\n",
      "c\n",
      "x\n",
      "y\n",
      "z\n"
     ]
    }
   ],
   "source": [
    "for row in c_2d:\n",
    "    for element in row:\n",
    "        print(element)"
   ]
  },
  {
   "cell_type": "markdown",
   "id": "9a6336a7",
   "metadata": {},
   "source": [
    "Problem 4: Iterate over each item in d_2d and print it using \"for i in range(...)\" syntax."
   ]
  },
  {
   "cell_type": "code",
   "execution_count": 9,
   "id": "6aa89e46",
   "metadata": {},
   "outputs": [
    {
     "name": "stdout",
     "output_type": "stream",
     "text": [
      "[['a', 'b', 'c'], ['x', 'y', 'z']]\n"
     ]
    }
   ],
   "source": [
    "d_2d = [['a','b','c'],\n",
    "       ['x','y','z']]\n",
    "print(d_2d)"
   ]
  },
  {
   "cell_type": "code",
   "execution_count": 10,
   "id": "af39f0ac",
   "metadata": {},
   "outputs": [
    {
     "name": "stdout",
     "output_type": "stream",
     "text": [
      "a\n",
      "b\n",
      "c\n",
      "x\n",
      "y\n",
      "z\n"
     ]
    }
   ],
   "source": [
    "for i in range(len(d_2d)):\n",
    "    for j in range(len(d_2d[i])):\n",
    "        print(d_2d[i][j])"
   ]
  },
  {
   "cell_type": "markdown",
   "id": "07e33fd5",
   "metadata": {},
   "source": [
    "Problem 5: You're given a 2D array with the same number of rows and columns. Write a function that adds up the diagonal elements and returns the sum."
   ]
  },
  {
   "cell_type": "markdown",
   "id": "27df1a55",
   "metadata": {},
   "source": [
    "For example, you're given 2D arr:\n",
    "[[1,2,3],\n",
    "[4,5,6],\n",
    "[7,8,9]]\n",
    "The diagonal are 1,5, and 9, so your function should return 15."
   ]
  },
  {
   "cell_type": "code",
   "execution_count": 5,
   "id": "3b963327",
   "metadata": {},
   "outputs": [],
   "source": [
    "#Modify the following function:\n",
    "def diagonal_sum(given_2d):\n",
    "    sum = 0\n",
    "    for i in range(len(given_2d)):\n",
    "        sum = sum + given_2d[i][i]\n",
    "        \n",
    "    return sum\n",
    "    "
   ]
  },
  {
   "cell_type": "code",
   "execution_count": 14,
   "id": "95cc88e5",
   "metadata": {},
   "outputs": [
    {
     "name": "stdout",
     "output_type": "stream",
     "text": [
      "2D = [[1, 2, 3], [4, 5, 6], [7, 8, 9]]\n",
      "sum = 15\n"
     ]
    }
   ],
   "source": [
    "given_2d = [[1,2,3],[4,5,6],[7,8,9]]\n",
    "print(\"2D = \" + str(given_2d))\n",
    "print(\"sum = \" + str(diagonal_sum(given_2d)))"
   ]
  },
  {
   "cell_type": "code",
   "execution_count": 15,
   "id": "70046107",
   "metadata": {},
   "outputs": [
    {
     "name": "stdout",
     "output_type": "stream",
     "text": [
      "2D = [[1, 2, 3], [4, 5, 6], [7, 8, 5]]\n",
      "sum = 11\n"
     ]
    }
   ],
   "source": [
    "given_2d = [[1,2,3],[4,5,6],[7,8,5]]\n",
    "print(\"2D = \" + str(given_2d))\n",
    "print(\"sum = \" + str(diagonal_sum(given_2d)))"
   ]
  },
  {
   "cell_type": "code",
   "execution_count": null,
   "id": "09e24d72",
   "metadata": {},
   "outputs": [],
   "source": [
    "1+5+9"
   ]
  },
  {
   "cell_type": "markdown",
   "id": "e8e3c305",
   "metadata": {},
   "source": [
    "# Sample Interview Question Number 3: 2D"
   ]
  },
  {
   "cell_type": "markdown",
   "id": "f7406618",
   "metadata": {},
   "source": [
    "### Clarifying Questions:\n",
    "##### What is the size of the chessboard?\n",
    "It could be any size (2x2 or 99x99)\n",
    "#### Is it always square shape? (#columns = #rows)?\n",
    "Yes\n",
    "#### Could the given array be empty?\n",
    "No, the size of the chessboard would be at least 1x1."
   ]
  },
  {
   "cell_type": "code",
   "execution_count": 1,
   "id": "0eb15991",
   "metadata": {},
   "outputs": [],
   "source": [
    "def rooks_are_safe(arr):\n",
    "    rows = []\n",
    "    cols = []\n",
    "    \n",
    "    for i in range(len(arr)):\n",
    "        for j in range(len(arr[i])):\n",
    "            if(arr[i][j] == 1):\n",
    "                rows.append(i)\n",
    "                cols.append(j)\n",
    "                \n",
    "    print(\"rows = \" + str(rows))\n",
    "    print(\"cols = \" + str(cols))\n",
    "    \n",
    "    for i in range(len(rows)):\n",
    "        for j in range(len(rows)):\n",
    "            #Checking if their more than one rooks in a rows\n",
    "            if(i != j and rows[i] == rows[j]):\n",
    "                #print(\"i:\"+str(i))\n",
    "                #print(\"j:\"+str(j))\n",
    "                #print(\"Error: row\")\n",
    "                return False\n",
    "            #Checking if their more than one rooks in a columns\n",
    "            if(i != j and cols[i] == cols[j]):\n",
    "                #print(\"Error: col\")\n",
    "                return False\n",
    "                \n",
    "    return True\n",
    "    \n",
    "# O(n^2+n^2)T -> O(n^2)T bbecause we used two nested for loops \n",
    "# O(n+n) -> O(n)S because we created two arrays\n",
    "    "
   ]
  },
  {
   "cell_type": "code",
   "execution_count": 55,
   "id": "4a5206c3",
   "metadata": {},
   "outputs": [
    {
     "name": "stdout",
     "output_type": "stream",
     "text": [
      "arr = [[0, 1, 0, 0], [1, 0, 0, 0], [0, 0, 1, 0], [0, 0, 0, 1]]\n",
      "rows = [0, 1, 2, 3]\n",
      "cols = [1, 0, 2, 3]\n"
     ]
    },
    {
     "data": {
      "text/plain": [
       "True"
      ]
     },
     "execution_count": 55,
     "metadata": {},
     "output_type": "execute_result"
    }
   ],
   "source": [
    "arr = [[0,1,0,0],[1,0,0,0],[0,0,1,0],[0,0,0,1]]\n",
    "print(\"arr = \" + str(arr))\n",
    "rooks_are_safe(arr)\n",
    "#O(n^2) T\n",
    "#O(1) S\n"
   ]
  },
  {
   "cell_type": "markdown",
   "id": "18000254",
   "metadata": {},
   "source": [
    "### the Tew Engineering World Solution:"
   ]
  },
  {
   "cell_type": "code",
   "execution_count": 57,
   "id": "337b26b6",
   "metadata": {},
   "outputs": [],
   "source": [
    "#He sums up the numbers in the row if the sum is greater than 1 then the rook isn't safe\n",
    "#He sums up the numbers in the column if the sum is greater than 1 then the rook isn't safe \n",
    "def rooks_safe(chessboard):\n",
    "    n = len(chessboard)\n",
    "    for row in range(n):\n",
    "        row_count = 0\n",
    "        for col in range(n):\n",
    "            row_count += chessboard[row][col]\n",
    "            if row_count > 1:\n",
    "                return False\n",
    "    for col in range(n):\n",
    "        col_count =0\n",
    "        for row in range(n):\n",
    "            col_count += chessboard[row][col]\n",
    "            if col_count > 1:\n",
    "                return False\n",
    "            \n",
    "            \n",
    "    return True\n",
    "\n",
    "# O(n^2+n^2) -> O(n^2) because we used two nested for loops \n",
    "# O(1) because we only created variables of primitive data types"
   ]
  },
  {
   "cell_type": "code",
   "execution_count": null,
   "id": "a2d25472",
   "metadata": {},
   "outputs": [],
   "source": []
  }
 ],
 "metadata": {
  "kernelspec": {
   "display_name": "Python 3 (ipykernel)",
   "language": "python",
   "name": "python3"
  },
  "language_info": {
   "codemirror_mode": {
    "name": "ipython",
    "version": 3
   },
   "file_extension": ".py",
   "mimetype": "text/x-python",
   "name": "python",
   "nbconvert_exporter": "python",
   "pygments_lexer": "ipython3",
   "version": "3.8.2"
  }
 },
 "nbformat": 4,
 "nbformat_minor": 5
}
