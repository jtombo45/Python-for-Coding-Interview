{
 "cells": [
  {
   "cell_type": "markdown",
   "id": "ec6d91d2",
   "metadata": {},
   "source": [
    "# Time Complexity and Big-O Questions With Examples From Python"
   ]
  },
  {
   "cell_type": "markdown",
   "id": "dce4f500",
   "metadata": {},
   "source": [
    "What if I come up with Two Solutions? (Which one is the better solution?)\n",
    "- How Long Does the following Function take to complete"
   ]
  },
  {
   "cell_type": "markdown",
   "id": "cc0ae5a4",
   "metadata": {},
   "source": [
    "Sample: #Example: given given_list = [4,7,2]\n",
    "Function:"
   ]
  },
  {
   "cell_type": "code",
   "execution_count": 3,
   "id": "dabb0dca",
   "metadata": {},
   "outputs": [],
   "source": [
    "given_list = [4,7,2] \n",
    "def total (given_list):\n",
    "        x = 0\n",
    "        for item in given_list:\n",
    "            x+=item\n",
    "        return x"
   ]
  },
  {
   "cell_type": "markdown",
   "id": "761319b5",
   "metadata": {},
   "source": [
    "### How Long Does the following Function take to complete?\n",
    "- It depends on the performance of your computer.\n",
    "- Wether you're running other programs or not\n",
    "- Language of choice (e.g, Python, Java, C++, etc.)"
   ]
  },
  {
   "cell_type": "markdown",
   "id": "a36a8b37",
   "metadata": {},
   "source": [
    "You can do this by running experiments with different size inputs, but it takes too long.\n"
   ]
  },
  {
   "cell_type": "markdown",
   "id": "29adf8d6",
   "metadata": {},
   "source": [
    "Get a Rough Idead Through Analysis\n",
    "- Time Complexity\n",
    "    - Big Notation"
   ]
  },
  {
   "cell_type": "markdown",
   "id": "547c97bc",
   "metadata": {},
   "source": [
    "### Big O Notation Order\n",
    "Here are, once again, the described complexity classes, sorted in ascending order of complexity (for sufficiently large values of n):\n",
    "- O(1) – constant time\n",
    "- O(log n) – logarithmic time\n",
    "- O(n) – linear time\n",
    "- O(n log n) – quasilinear time\n",
    "- O(n²) – quadratic time"
   ]
  },
  {
   "cell_type": "code",
   "execution_count": 6,
   "id": "25201dda",
   "metadata": {},
   "outputs": [
    {
     "data": {
      "text/html": [
       "<img src=\"https://www.happycoders.eu/wp-content/uploads/2020/05/big-o-notation-comparing-complexity-classes-v2.png\"/>"
      ],
      "text/plain": [
       "<IPython.core.display.Image object>"
      ]
     },
     "execution_count": 6,
     "metadata": {},
     "output_type": "execute_result"
    }
   ],
   "source": [
    "from IPython.display import Image\n",
    "from IPython.core.display import HTML \n",
    "Image(url= \"https://www.happycoders.eu/wp-content/uploads/2020/05/big-o-notation-comparing-complexity-classes-v2.png\")"
   ]
  },
  {
   "cell_type": "markdown",
   "id": "6c1f8079",
   "metadata": {},
   "source": [
    "Big-O Notation decscibes the worst case scenario to evaluate space and time complexity"
   ]
  },
  {
   "cell_type": "markdown",
   "id": "d7d34f3b",
   "metadata": {},
   "source": [
    "# Sample Interview Question #4: 2D Array and Time Complexity"
   ]
  },
  {
   "cell_type": "markdown",
   "id": "bc05014b",
   "metadata": {},
   "source": [
    "Given a 2D array of square shape and each row and column is sorted.\n",
    "From left to right in each row the element values increase\n",
    "Count the negative numbers in it:"
   ]
  },
  {
   "cell_type": "code",
   "execution_count": 11,
   "id": "40a3c30d",
   "metadata": {},
   "outputs": [],
   "source": [
    "def ngtCount(arr):\n",
    "    count = 0\n",
    "    for row in arr:\n",
    "        for element in row:\n",
    "            if(element < 0):\n",
    "                count+=1\n",
    "                \n",
    "    return count\n",
    "#O(n^2)T\n",
    "#O(1)S"
   ]
  },
  {
   "cell_type": "code",
   "execution_count": 12,
   "id": "c16870ea",
   "metadata": {},
   "outputs": [
    {
     "name": "stdout",
     "output_type": "stream",
     "text": [
      "4\n"
     ]
    }
   ],
   "source": [
    "arr = [[-1,0,0],[-2,-3,0],[0,5,-3]]\n",
    "print(ngtCount(arr))\n"
   ]
  },
  {
   "cell_type": "markdown",
   "id": "9208df4a",
   "metadata": {},
   "source": [
    "Now find the O(n) solution:"
   ]
  },
  {
   "cell_type": "code",
   "execution_count": 19,
   "id": "32f7d260",
   "metadata": {},
   "outputs": [],
   "source": [
    "#This is my attempt to get the solution in O(n) times\n",
    "#\n",
    "def ngtCount(arr):\n",
    "    count = 0\n",
    "    for element in arr:\n",
    "        print(element)\n",
    "        if(element < 0):\n",
    "            count+=1\n",
    "    return count\n",
    "            "
   ]
  },
  {
   "cell_type": "code",
   "execution_count": 20,
   "id": "2f91900f",
   "metadata": {},
   "outputs": [
    {
     "name": "stdout",
     "output_type": "stream",
     "text": [
      "[-1, 0, 0]\n"
     ]
    },
    {
     "ename": "TypeError",
     "evalue": "'<' not supported between instances of 'list' and 'int'",
     "output_type": "error",
     "traceback": [
      "\u001b[0;31m---------------------------------------------------------------------------\u001b[0m",
      "\u001b[0;31mTypeError\u001b[0m                                 Traceback (most recent call last)",
      "\u001b[0;32m/var/folders/k1/4jxgj60j2wvb6yjmdzjb6x3r0000gn/T/ipykernel_1008/8275135.py\u001b[0m in \u001b[0;36m<module>\u001b[0;34m\u001b[0m\n\u001b[1;32m      1\u001b[0m \u001b[0marr\u001b[0m \u001b[0;34m=\u001b[0m \u001b[0;34m[\u001b[0m\u001b[0;34m[\u001b[0m\u001b[0;34m-\u001b[0m\u001b[0;36m1\u001b[0m\u001b[0;34m,\u001b[0m\u001b[0;36m0\u001b[0m\u001b[0;34m,\u001b[0m\u001b[0;36m0\u001b[0m\u001b[0;34m]\u001b[0m\u001b[0;34m,\u001b[0m\u001b[0;34m[\u001b[0m\u001b[0;34m-\u001b[0m\u001b[0;36m2\u001b[0m\u001b[0;34m,\u001b[0m\u001b[0;34m-\u001b[0m\u001b[0;36m3\u001b[0m\u001b[0;34m,\u001b[0m\u001b[0;36m0\u001b[0m\u001b[0;34m]\u001b[0m\u001b[0;34m,\u001b[0m\u001b[0;34m[\u001b[0m\u001b[0;36m0\u001b[0m\u001b[0;34m,\u001b[0m\u001b[0;36m5\u001b[0m\u001b[0;34m,\u001b[0m\u001b[0;34m-\u001b[0m\u001b[0;36m3\u001b[0m\u001b[0;34m]\u001b[0m\u001b[0;34m]\u001b[0m\u001b[0;34m\u001b[0m\u001b[0;34m\u001b[0m\u001b[0m\n\u001b[0;32m----> 2\u001b[0;31m \u001b[0mprint\u001b[0m\u001b[0;34m(\u001b[0m\u001b[0mngtCount\u001b[0m\u001b[0;34m(\u001b[0m\u001b[0marr\u001b[0m\u001b[0;34m)\u001b[0m\u001b[0;34m)\u001b[0m\u001b[0;34m\u001b[0m\u001b[0;34m\u001b[0m\u001b[0m\n\u001b[0m",
      "\u001b[0;32m/var/folders/k1/4jxgj60j2wvb6yjmdzjb6x3r0000gn/T/ipykernel_1008/3845162142.py\u001b[0m in \u001b[0;36mngtCount\u001b[0;34m(arr)\u001b[0m\n\u001b[1;32m      3\u001b[0m     \u001b[0;32mfor\u001b[0m \u001b[0melement\u001b[0m \u001b[0;32min\u001b[0m \u001b[0marr\u001b[0m\u001b[0;34m:\u001b[0m\u001b[0;34m\u001b[0m\u001b[0;34m\u001b[0m\u001b[0m\n\u001b[1;32m      4\u001b[0m         \u001b[0mprint\u001b[0m\u001b[0;34m(\u001b[0m\u001b[0melement\u001b[0m\u001b[0;34m)\u001b[0m\u001b[0;34m\u001b[0m\u001b[0;34m\u001b[0m\u001b[0m\n\u001b[0;32m----> 5\u001b[0;31m         \u001b[0;32mif\u001b[0m\u001b[0;34m(\u001b[0m\u001b[0melement\u001b[0m \u001b[0;34m<\u001b[0m \u001b[0;36m0\u001b[0m\u001b[0;34m)\u001b[0m\u001b[0;34m:\u001b[0m\u001b[0;34m\u001b[0m\u001b[0;34m\u001b[0m\u001b[0m\n\u001b[0m\u001b[1;32m      6\u001b[0m             \u001b[0mcount\u001b[0m\u001b[0;34m+=\u001b[0m\u001b[0;36m1\u001b[0m\u001b[0;34m\u001b[0m\u001b[0;34m\u001b[0m\u001b[0m\n\u001b[1;32m      7\u001b[0m     \u001b[0;32mreturn\u001b[0m \u001b[0mcount\u001b[0m\u001b[0;34m\u001b[0m\u001b[0;34m\u001b[0m\u001b[0m\n",
      "\u001b[0;31mTypeError\u001b[0m: '<' not supported between instances of 'list' and 'int'"
     ]
    }
   ],
   "source": [
    "arr = [[-1,0,0],[-2,-3,0],[0,5,-3]]\n",
    "print(ngtCount(arr))"
   ]
  },
  {
   "cell_type": "markdown",
   "id": "a6f59b32",
   "metadata": {},
   "source": [
    "theTewEngineeringWorld's O(n) Solution "
   ]
  },
  {
   "cell_type": "code",
   "execution_count": 18,
   "id": "c3aa0e94",
   "metadata": {},
   "outputs": [],
   "source": [
    "def count_negative(given_array):\n",
    "    count = 0\n",
    "    row_i = 0\n",
    "    col_i = len(given_array[0]) -1\n",
    "    while col_i >= 0 and row_i < len(given_array):\n",
    "        print(\"row_i = \"+ str(row_i))\n",
    "        print(\"col_i = \"+ str(col_i))\n",
    "        print(\"given_array = \"+ str(given_array[row_i][col_i]) + \"\\n\")\n",
    "        if given_array[row_i][col_i] < 0:\n",
    "            count += (col_i + 1)\n",
    "            row_i += 1\n",
    "        else:\n",
    "            col_i -= 1\n",
    "            \n",
    "    return count"
   ]
  },
  {
   "cell_type": "code",
   "execution_count": 20,
   "id": "6dea9f62",
   "metadata": {},
   "outputs": [
    {
     "name": "stdout",
     "output_type": "stream",
     "text": [
      " How many negative numbers are there in the following array?\n",
      "(There are 6.)\n",
      "[[-4, -3, -1, 1],\n",
      " [-2, -2, 1, 2],\n",
      " [-1, 1, 2, 3],\n",
      " [1, 2, 4, 5]\n",
      "]\n",
      "\n",
      "row_i = 0\n",
      "col_i = 3\n",
      "given_array = 1\n",
      "\n",
      "row_i = 0\n",
      "col_i = 2\n",
      "given_array = -1\n",
      "\n",
      "row_i = 1\n",
      "col_i = 2\n",
      "given_array = 1\n",
      "\n",
      "row_i = 1\n",
      "col_i = 1\n",
      "given_array = -2\n",
      "\n",
      "row_i = 2\n",
      "col_i = 1\n",
      "given_array = 1\n",
      "\n",
      "row_i = 2\n",
      "col_i = 0\n",
      "given_array = -1\n",
      "\n",
      "row_i = 3\n",
      "col_i = 0\n",
      "given_array = -2\n",
      "\n",
      "7\n"
     ]
    }
   ],
   "source": [
    "print(\"\"\" How many negative numbers are there in the following array?\n",
    "(There are 6.)\n",
    "[[-4, -3, -1, 1],\n",
    " [-2, -2, 1, 2],\n",
    " [-1, 1, 2, 3],\n",
    " [1, 2, 4, 5]\n",
    "]\n",
    "\"\"\")\n",
    "\n",
    "arr = [[-4, -3, -1, 1],[-2, -2, 1, 2], [-1, 1, 2, 3],[-2, -1, 4, 5]]\n",
    "\n",
    "print(count_negative(arr))"
   ]
  },
  {
   "cell_type": "code",
   "execution_count": null,
   "id": "350eb018",
   "metadata": {},
   "outputs": [],
   "source": [
    "#His solution doesn't work for every case unless I am reading the question wrong"
   ]
  }
 ],
 "metadata": {
  "kernelspec": {
   "display_name": "Python 3 (ipykernel)",
   "language": "python",
   "name": "python3"
  },
  "language_info": {
   "codemirror_mode": {
    "name": "ipython",
    "version": 3
   },
   "file_extension": ".py",
   "mimetype": "text/x-python",
   "name": "python",
   "nbconvert_exporter": "python",
   "pygments_lexer": "ipython3",
   "version": "3.8.2"
  }
 },
 "nbformat": 4,
 "nbformat_minor": 5
}
