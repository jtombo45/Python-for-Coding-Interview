{
 "cells": [
  {
   "cell_type": "markdown",
   "id": "e9b0d4a3",
   "metadata": {},
   "source": [
    "# Data Structure: List\n",
    "Most commonly used type is a list\n",
    "It is similair to an array it is a collections of elements\n",
    "It can hold multiple types at once:\n"
   ]
  },
  {
   "cell_type": "code",
   "execution_count": 2,
   "id": "e89b9d33",
   "metadata": {},
   "outputs": [],
   "source": [
    "#A list of integers\n",
    "num = [1,2,3,4]"
   ]
  },
  {
   "cell_type": "code",
   "execution_count": 3,
   "id": "e3e1a1be",
   "metadata": {},
   "outputs": [
    {
     "data": {
      "text/plain": [
       "[1, 2, 3, 4]"
      ]
     },
     "execution_count": 3,
     "metadata": {},
     "output_type": "execute_result"
    }
   ],
   "source": [
    "num"
   ]
  },
  {
   "cell_type": "code",
   "execution_count": 4,
   "id": "2f520e52",
   "metadata": {},
   "outputs": [],
   "source": [
    "#A list of strings\n",
    "string = [\"Apple\",\"Orange\",\"Banana\"]"
   ]
  },
  {
   "cell_type": "code",
   "execution_count": 5,
   "id": "1ee521cc",
   "metadata": {},
   "outputs": [
    {
     "data": {
      "text/plain": [
       "['Apple', 'Orange', 'Banana']"
      ]
     },
     "execution_count": 5,
     "metadata": {},
     "output_type": "execute_result"
    }
   ],
   "source": [
    "string"
   ]
  },
  {
   "cell_type": "code",
   "execution_count": 6,
   "id": "a88f8a8b",
   "metadata": {},
   "outputs": [],
   "source": [
    "#A nested list\n",
    "nestedList = [[\"list1\",\"also list1\"],[\"list2\"]]"
   ]
  },
  {
   "cell_type": "code",
   "execution_count": 7,
   "id": "b1e6175c",
   "metadata": {},
   "outputs": [
    {
     "data": {
      "text/plain": [
       "[['list1', 'also list1'], ['list2']]"
      ]
     },
     "execution_count": 7,
     "metadata": {},
     "output_type": "execute_result"
    }
   ],
   "source": [
    "nestedList"
   ]
  },
  {
   "cell_type": "code",
   "execution_count": 10,
   "id": "7529ab79",
   "metadata": {},
   "outputs": [],
   "source": [
    "#A list of mixed vatiable types: int, string, int, char\n",
    "mixed = [1, \"2\", 2, '3']"
   ]
  },
  {
   "cell_type": "code",
   "execution_count": 11,
   "id": "71f41613",
   "metadata": {},
   "outputs": [
    {
     "data": {
      "text/plain": [
       "[1, '2', 2, '3']"
      ]
     },
     "execution_count": 11,
     "metadata": {},
     "output_type": "execute_result"
    }
   ],
   "source": [
    "mixed"
   ]
  },
  {
   "cell_type": "code",
   "execution_count": 16,
   "id": "461af5b9",
   "metadata": {},
   "outputs": [
    {
     "data": {
      "text/plain": [
       "'item2'"
      ]
     },
     "execution_count": 16,
     "metadata": {},
     "output_type": "execute_result"
    }
   ],
   "source": [
    "#Initializing a List:\n",
    "a = [\"item1\", \"item2\",\"item3\"]\n",
    "#Retrieving a List:\n",
    "a[1]"
   ]
  },
  {
   "cell_type": "code",
   "execution_count": 17,
   "id": "6ec98c5f",
   "metadata": {},
   "outputs": [
    {
     "name": "stdout",
     "output_type": "stream",
     "text": [
      "new item name\n"
     ]
    }
   ],
   "source": [
    "#Setting a List element:\n",
    "a[1] = \"new item name\"\n",
    "print(a[1])"
   ]
  },
  {
   "cell_type": "code",
   "execution_count": 18,
   "id": "bc487313",
   "metadata": {},
   "outputs": [
    {
     "data": {
      "text/plain": [
       "3"
      ]
     },
     "execution_count": 18,
     "metadata": {},
     "output_type": "execute_result"
    }
   ],
   "source": [
    "#A list of mixed types  \n",
    "mixedTypes = [1,2,\"this is not a number\"]\n",
    "len(mixedTypes)"
   ]
  },
  {
   "cell_type": "code",
   "execution_count": 2,
   "id": "ad89cf4a",
   "metadata": {},
   "outputs": [
    {
     "name": "stdout",
     "output_type": "stream",
     "text": [
      "item 0\n",
      "item 1\n",
      "item 2\n"
     ]
    }
   ],
   "source": [
    "#Iterating through List (Method 1): Element based iteration\n",
    "#Goes through item in the list and prints each element\n",
    "a = [\"item 0\", \"item 1\", \"item 2\"]\n",
    "for element in a:\n",
    "    print(element)"
   ]
  },
  {
   "cell_type": "code",
   "execution_count": 1,
   "id": "08f73f8f",
   "metadata": {},
   "outputs": [
    {
     "name": "stdout",
     "output_type": "stream",
     "text": [
      "index:\n",
      "0\n",
      "1\n",
      "2\n",
      "\n",
      "elements:\n",
      "item 0\n",
      "item 1\n",
      "item 2\n"
     ]
    }
   ],
   "source": [
    "#Iterating through List (Method 2): Index based iteration\n",
    "#range(3) is like a list [0,1,2]\n",
    "a = [\"item 0\", \"item 1\", \"item 2\"]\n",
    "print(\"index:\")\n",
    "for index in range(len(a)):\n",
    "    print(index)\n",
    "\n",
    "print(\"\\nelements:\")\n",
    "for index in range(len(a)):\n",
    "    print(a[index])"
   ]
  },
  {
   "cell_type": "code",
   "execution_count": 27,
   "id": "cc9fc6c8",
   "metadata": {},
   "outputs": [
    {
     "data": {
      "text/plain": [
       "['item1', 'item2', 'item3']"
      ]
     },
     "execution_count": 27,
     "metadata": {},
     "output_type": "execute_result"
    }
   ],
   "source": [
    "#Problem 1: Initialize a new list called a_list with the elements[\"item1\",\"item2\",\"item2\"]\n",
    "a_list = [\"item1\",\"item2\",\"item3\"]\n",
    "a_list"
   ]
  },
  {
   "cell_type": "code",
   "execution_count": 28,
   "id": "7d8a3025",
   "metadata": {},
   "outputs": [
    {
     "data": {
      "text/plain": [
       "[0, 1, 0]"
      ]
     },
     "execution_count": 28,
     "metadata": {},
     "output_type": "execute_result"
    }
   ],
   "source": [
    "#Problem 2: Change the scond element in b_list(defined below) to 1\n",
    "b_list = [0,0,0]\n",
    "b_list[1] = 1\n",
    "b_list"
   ]
  },
  {
   "cell_type": "code",
   "execution_count": 30,
   "id": "738ac30e",
   "metadata": {},
   "outputs": [
    {
     "name": "stdout",
     "output_type": "stream",
     "text": [
      "item0\n",
      "item1\n",
      "item2\n"
     ]
    }
   ],
   "source": [
    "#Problem 3: Iterate over each elemnt in c__list and print it using the \"for element in ... syntax\"\n",
    "c_list = [\"item0\",\"item1\",\"item2\"]\n",
    "for element in c_list:\n",
    "    print(element)"
   ]
  },
  {
   "cell_type": "code",
   "execution_count": 31,
   "id": "c02f235a",
   "metadata": {},
   "outputs": [
    {
     "name": "stdout",
     "output_type": "stream",
     "text": [
      "item1\n",
      "item2\n",
      "item3\n"
     ]
    }
   ],
   "source": [
    "#Problem 4: Iterate over each each element in d_list and print it using the \"for in range(...)\"syntax.\n",
    "d_list = [\"item1\",\"item2\",\"item3\"]\n",
    "for i in range(len(d_list)):\n",
    "    print(d_list[i])"
   ]
  },
  {
   "cell_type": "code",
   "execution_count": 32,
   "id": "94de81ab",
   "metadata": {},
   "outputs": [
    {
     "name": "stdout",
     "output_type": "stream",
     "text": [
      "798\n"
     ]
    }
   ],
   "source": [
    "#Problem 5: Find the sum of e_list which contains: [32, 55, 710, 1].\n",
    "e_list = [32, 55, 710, 1]\n",
    "total = 0\n",
    "for element in e_list:\n",
    "    total += element\n",
    "print(total)"
   ]
  },
  {
   "cell_type": "code",
   "execution_count": 1,
   "id": "c2f85a34",
   "metadata": {},
   "outputs": [
    {
     "name": "stdout",
     "output_type": "stream",
     "text": [
      "3\n",
      "898\n",
      "Second largest num: 898\n"
     ]
    }
   ],
   "source": [
    "#Sample Interview Question 1: Array(List)\n",
    "#Given an array of numbers return the second largest element in the array\n",
    "#Ex: [1,3,4,5,0,2] \n",
    "#Second_largest(a)-> 4\n",
    "a = [999,3,4,523,7,2,898,67,999]\n",
    "\n",
    "def Second_largest(arr):\n",
    "    mx = arr[0]\n",
    "    \n",
    "    for i in range(len(arr)):\n",
    "        if(mx < a[i]):\n",
    "            mx = a[i]\n",
    "            \n",
    "    secMx = None\n",
    "    if(mx != a[0]):\n",
    "        secMx = a[0]\n",
    "    else:\n",
    "        secMx = a[1]\n",
    "        \n",
    "    print(secMx)\n",
    "        \n",
    "    for i in range(len(arr)):\n",
    "        if(secMx < mx and secMx != mx and a[i] != mx and secMx < a[i]):\n",
    "            secMx = a[i]\n",
    "    print(secMx)\n",
    "    return secMx\n",
    "\n",
    "print(\"Second largest num: \" + str(Second_largest(a)))\n",
    "\n",
    "  \n",
    "            \n",
    "        \n",
    "    \n",
    "    "
   ]
  },
  {
   "cell_type": "code",
   "execution_count": 47,
   "id": "733c9a9e",
   "metadata": {},
   "outputs": [],
   "source": [
    "#TheEngineeringWorld Solutions:\n",
    "#Problem: Find the secondest largest element in the array\n",
    "#Could this array be empty?: yes -> return None\n",
    "#Could this array have only one element: yes -> return None\n",
    "#What if we had, [2,2,1] -> return 2 (do the mathematical approach)\n",
    "#What if it doesn't make sense\n",
    "\n",
    "def second_largest(given_list):\n",
    "    largest = None\n",
    "    second_largest = None\n",
    "    for current_number in given_list:\n",
    "        if largest == None:\n",
    "            largest = current_number\n",
    "        elif current_number > largest:\n",
    "            second_largest = largest\n",
    "            largest = current_number\n",
    "        elif second_largest == None:\n",
    "            second_largest = current_number\n",
    "        elif current_number > second_largest:\n",
    "            second_largest = current_number\n",
    "    return second_largest\n"
   ]
  },
  {
   "cell_type": "code",
   "execution_count": 37,
   "id": "0008d1c2",
   "metadata": {},
   "outputs": [
    {
     "name": "stdout",
     "output_type": "stream",
     "text": [
      "None\n"
     ]
    }
   ],
   "source": [
    "print(second_largest([None]))"
   ]
  },
  {
   "cell_type": "code",
   "execution_count": 48,
   "id": "1fa6a13b",
   "metadata": {},
   "outputs": [
    {
     "name": "stdout",
     "output_type": "stream",
     "text": [
      "None\n"
     ]
    }
   ],
   "source": [
    "print(second_largest([1]))"
   ]
  },
  {
   "cell_type": "code",
   "execution_count": 49,
   "id": "ac6b3aea",
   "metadata": {},
   "outputs": [
    {
     "name": "stdout",
     "output_type": "stream",
     "text": [
      "4\n"
     ]
    }
   ],
   "source": [
    "print(second_largest([1,3,4,5,0,2]))"
   ]
  },
  {
   "cell_type": "code",
   "execution_count": 52,
   "id": "1b87c287",
   "metadata": {},
   "outputs": [
    {
     "name": "stdout",
     "output_type": "stream",
     "text": [
      "2\n"
     ]
    }
   ],
   "source": [
    "print(second_largest([2,2,1]))"
   ]
  },
  {
   "cell_type": "code",
   "execution_count": 53,
   "id": "592da7fd",
   "metadata": {},
   "outputs": [
    {
     "name": "stdout",
     "output_type": "stream",
     "text": [
      "2\n"
     ]
    }
   ],
   "source": [
    "print(second_largest([2,2,1]))"
   ]
  },
  {
   "cell_type": "code",
   "execution_count": 55,
   "id": "43db1598",
   "metadata": {},
   "outputs": [
    {
     "name": "stdout",
     "output_type": "stream",
     "text": [
      "None\n"
     ]
    }
   ],
   "source": [
    "print(second_largest([]))"
   ]
  },
  {
   "cell_type": "code",
   "execution_count": 33,
   "id": "7f61dc25",
   "metadata": {},
   "outputs": [
    {
     "name": "stdout",
     "output_type": "stream",
     "text": [
      "77\n"
     ]
    }
   ],
   "source": [
    "#My Solution:\n",
    "#Examples:\n",
    "    #[] -> None\n",
    "    #[1] -> None\n",
    "    #[2,2,1] -> 2\n",
    "    #[1,2,3,4] -> 3\n",
    "#Input: Array\n",
    "#Output: Second largest element in array\n",
    "#Edge: If the array is empty or only contains one element, if the arrays largest element appears more than once\n",
    "#Assumption: The array can be empty, the second largest element can equal the largest element\n",
    "\n",
    "\n",
    "#Given array:\n",
    "arr = [5, 2, 77, 4, 13, 6, 98]\n",
    "\n",
    "def secondNbr(arr):\n",
    "    secNbr = None\n",
    "    \n",
    "    if(arr == None):\n",
    "        return secNbr\n",
    "    \n",
    "    if(len(arr) == 0):\n",
    "        return secNbr\n",
    "\n",
    "    elif(len(arr) == 1):\n",
    "        return secNbr\n",
    "\n",
    "    else:\n",
    "        mx = arr[0]\n",
    "        mxIndex = 0\n",
    "\n",
    "        #Finding the max element\n",
    "        for i in range(len(arr)):\n",
    "            if(mx < arr[i]):\n",
    "                mx = arr[i]\n",
    "                mxIndex = i\n",
    "\n",
    "        #Initialize sec larget element variable\n",
    "        if(mxIndex == 0):\n",
    "            secNbr = arr[1]\n",
    "        else:\n",
    "            secNbr = arr[0]\n",
    "\n",
    "        #Finding the sec largest element        \n",
    "        for i in range(len(arr)):\n",
    "            if(i != mxIndex and secNbr < arr[i]):\n",
    "                secNbr = arr[i]\n",
    "        return secNbr\n",
    "    \n",
    "#Solution O(n^2) T and O(1) S \n",
    "print(secondNbr(arr))"
   ]
  },
  {
   "cell_type": "code",
   "execution_count": null,
   "id": "f87be762",
   "metadata": {},
   "outputs": [],
   "source": []
  },
  {
   "cell_type": "code",
   "execution_count": null,
   "id": "14417ab2",
   "metadata": {},
   "outputs": [],
   "source": []
  }
 ],
 "metadata": {
  "kernelspec": {
   "display_name": "Python 3 (ipykernel)",
   "language": "python",
   "name": "python3"
  },
  "language_info": {
   "codemirror_mode": {
    "name": "ipython",
    "version": 3
   },
   "file_extension": ".py",
   "mimetype": "text/x-python",
   "name": "python",
   "nbconvert_exporter": "python",
   "pygments_lexer": "ipython3",
   "version": "3.8.2"
  }
 },
 "nbformat": 4,
 "nbformat_minor": 5
}
