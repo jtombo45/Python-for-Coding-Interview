{
 "cells": [
  {
   "cell_type": "markdown",
   "id": "eac4b41d",
   "metadata": {},
   "source": [
    "# Creating a Linked List Class"
   ]
  },
  {
   "cell_type": "code",
   "execution_count": 138,
   "id": "6c3743f9",
   "metadata": {},
   "outputs": [],
   "source": [
    "# Definition for singly-linked list:\n",
    "class ListNode(object):\n",
    "    def __init__(self, x):\n",
    "        self.value = x\n",
    "        self.next = None"
   ]
  },
  {
   "cell_type": "code",
   "execution_count": 139,
   "id": "620bdd9e",
   "metadata": {},
   "outputs": [],
   "source": [
    "l_0 = ListNode(3)"
   ]
  },
  {
   "cell_type": "code",
   "execution_count": 140,
   "id": "695b58ca",
   "metadata": {},
   "outputs": [
    {
     "data": {
      "text/plain": [
       "3"
      ]
     },
     "execution_count": 140,
     "metadata": {},
     "output_type": "execute_result"
    }
   ],
   "source": [
    "l.value"
   ]
  },
  {
   "cell_type": "code",
   "execution_count": 141,
   "id": "6a99a852",
   "metadata": {},
   "outputs": [],
   "source": [
    "#Adding more elements to the linked list\n",
    "l_1 = ListNode(4)\n",
    "l_2 = ListNode(3)\n",
    "l_3 = ListNode(5)\n",
    "\n",
    "#Linking the nodes\n",
    "l_0.next = l_1\n",
    "l_1.next = l_2\n",
    "l_2.next = l_3\n",
    "l_3.next = None"
   ]
  },
  {
   "cell_type": "markdown",
   "id": "a765320f",
   "metadata": {},
   "source": [
    "## Given a single linked list l and key value k, return l with k values removed from the list"
   ]
  },
  {
   "cell_type": "code",
   "execution_count": 146,
   "id": "67c85b60",
   "metadata": {},
   "outputs": [],
   "source": [
    "# l = 3 -> 4 -> 3 -> 5\n",
    "l = l_0 #setting l to equal to the first node of the linked list\n",
    "k = 3"
   ]
  },
  {
   "cell_type": "code",
   "execution_count": null,
   "id": "8d1dd69e",
   "metadata": {},
   "outputs": [],
   "source": [
    "# Walk Through Process\n",
    "# l = 3 -> 4 -> 3 -> 5\n",
    "# 1st While Loop is used to move to the position of head node and head != k\n",
    "# After 1st while loop, basically the first 3 get pasted or ignored:\n",
    "    # curr = 4 -> 3 -> 5\n",
    "    # new_head = curr: 4 -> 3 -> 5\n",
    "    # prev = None\n",
    "# 2nd While Loop is used to setup new_head node's \n",
    "# front values to exlcude the k values by using the curr and prev nodes\n",
    "    # First Iteration:\n",
    "        # curr = 3 -> 5\n",
    "        # new_head = curr: 4 -> 3 -> 5\n",
    "        # prev = curr: prev = 4 -> 3 -> 5\n",
    "    # 2nd Iteration: curr = key (3) and prev is not None\n",
    "        # curr = 5 (curr.next)\n",
    "        # new_head = curr: 4 -> 5\n",
    "        # prev.next = 4 -> 5 (curr.next and prev.next)\n"
   ]
  },
  {
   "cell_type": "code",
   "execution_count": 147,
   "id": "db76c051",
   "metadata": {},
   "outputs": [],
   "source": [
    "def removeKFromList(l, k):\n",
    "    curr = l\n",
    "    #Iterating thru curr linked list to find the head and head != k\n",
    "    while curr is not None:\n",
    "        if curr.value != k:\n",
    "            break\n",
    "        curr = curr.next\n",
    "    # first move and set the head\n",
    "    new_head = curr\n",
    "    prev = None\n",
    "    # move along\n",
    "    while curr is not None:\n",
    "        if curr.value == k:\n",
    "            if prev is not None:\n",
    "                prev.next = curr.next\n",
    "            curr = curr.next\n",
    "            continue\n",
    "        prev = curr\n",
    "        curr = curr.next\n",
    "    \n",
    "    #Printing purposes in order to validate results:\n",
    "    while new_head is not None:\n",
    "        print(new_head.value)\n",
    "        new_head = new_head.next\n",
    "    \n",
    "    return new_head"
   ]
  },
  {
   "cell_type": "code",
   "execution_count": 148,
   "id": "c13076ee",
   "metadata": {},
   "outputs": [
    {
     "name": "stdout",
     "output_type": "stream",
     "text": [
      "4\n",
      "5\n"
     ]
    }
   ],
   "source": [
    "result = removeKFromList(l, k)"
   ]
  },
  {
   "cell_type": "code",
   "execution_count": 149,
   "id": "3a25abc3",
   "metadata": {},
   "outputs": [
    {
     "ename": "SyntaxError",
     "evalue": "invalid syntax (1654323137.py, line 1)",
     "output_type": "error",
     "traceback": [
      "\u001b[0;36m  File \u001b[0;32m\"/var/folders/k1/4jxgj60j2wvb6yjmdzjb6x3r0000gn/T/ipykernel_1636/1654323137.py\"\u001b[0;36m, line \u001b[0;32m1\u001b[0m\n\u001b[0;31m    jupyter nbconvert --to html notebook.ipynb\u001b[0m\n\u001b[0m            ^\u001b[0m\n\u001b[0;31mSyntaxError\u001b[0m\u001b[0;31m:\u001b[0m invalid syntax\n"
     ]
    }
   ],
   "source": [
    "jupyter nbconvert --to html notebook.ipynb  "
   ]
  },
  {
   "cell_type": "code",
   "execution_count": null,
   "id": "11073360",
   "metadata": {},
   "outputs": [],
   "source": []
  }
 ],
 "metadata": {
  "kernelspec": {
   "display_name": "Python 3 (ipykernel)",
   "language": "python",
   "name": "python3"
  },
  "language_info": {
   "codemirror_mode": {
    "name": "ipython",
    "version": 3
   },
   "file_extension": ".py",
   "mimetype": "text/x-python",
   "name": "python",
   "nbconvert_exporter": "python",
   "pygments_lexer": "ipython3",
   "version": "3.8.2"
  }
 },
 "nbformat": 4,
 "nbformat_minor": 5
}
